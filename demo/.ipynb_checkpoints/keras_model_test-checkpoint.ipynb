{
 "cells": [
  {
   "cell_type": "code",
   "execution_count": 2,
   "metadata": {},
   "outputs": [],
   "source": [
    "# CBGV_DATASET data generator\n",
    "from sklearn.utils import shuffle\n",
    "import numpy as np\n",
    "import cv2\n",
    "# def preprocess_image(im):\n",
    "#   im = cv2.resize(im, (96,96))\n",
    "#   im = cv2.cvtColor(im, cv2.COLOR_GRAY2BGR)\n",
    "#   im = im.astype('float32')\n",
    "#   return im\n",
    "from skimage.transform import resize\n",
    "\n",
    "target_size = 128\n",
    "\n",
    "def preprocess_image(x):\n",
    "    # Resize the image to have the shape of (96,96)\n",
    "    x = cv2.imread(str(x), 1)\n",
    "    x = resize(x, (target_size, target_size),\n",
    "            mode='constant',\n",
    "            anti_aliasing=False)\n",
    "    \n",
    "    # convert to 3 channel (RGB)\n",
    "    # x = np.stack((x,)*3, axis=-1) \n",
    "    \n",
    "    # Make sure it is a float32, here is why \n",
    "    # https://www.quora.com/When-should-I-use-tf-float32-vs-tf-float64-in-TensorFlow\n",
    "    return x.astype(np.float32) / 255"
   ]
  },
  {
   "cell_type": "code",
   "execution_count": 2,
   "metadata": {},
   "outputs": [
    {
     "name": "stderr",
     "output_type": "stream",
     "text": [
      "Using TensorFlow backend.\n"
     ]
    }
   ],
   "source": [
    "from keras.applications import MobileNetV2\n",
    "from keras.layers import Dense, Input, Dropout\n",
    "from keras.models import Model\n",
    "\n",
    "def build_model( ):\n",
    "    input_tensor = Input(shape=(target_size, target_size, 3))\n",
    "    base_model = MobileNetV2(\n",
    "        include_top=False,\n",
    "        weights='imagenet',\n",
    "        input_tensor=input_tensor,\n",
    "        input_shape=(target_size, target_size, 3),\n",
    "        pooling='avg')\n",
    "\n",
    "    for layer in base_model.layers:\n",
    "        layer.trainable = True  # trainable has to be false in order to freeze the layers\n",
    "        \n",
    "    op = Dense(256, activation='relu')(base_model.output)\n",
    "    op = Dropout(.25)(op)\n",
    "    \n",
    "    ##\n",
    "    # softmax: calculates a probability for every possible class.\n",
    "    #\n",
    "    # activation='softmax': return the highest probability;\n",
    "    # for example, if 'Coat' is the highest probability then the result would be \n",
    "    # something like [0,0,0,0,1,0,0,0,0,0] with 1 in index 5 indicate 'Coat' in our case.\n",
    "    ##\n",
    "    # comment the following line to enable encoded vector output\n",
    "    output_tensor = Dense(63, activation='softmax')(op)\n",
    "    output_tensor = op\n",
    "\n",
    "    model = Model(inputs=input_tensor, outputs=output_tensor)\n",
    "\n",
    "    return model"
   ]
  },
  {
   "cell_type": "code",
   "execution_count": 4,
   "metadata": {},
   "outputs": [
    {
     "name": "stdout",
     "output_type": "stream",
     "text": [
      "WARNING:tensorflow:From /home/huy/python-env/tensorflow_v1/lib/python3.6/site-packages/tensorflow_core/python/ops/resource_variable_ops.py:1630: calling BaseResourceVariable.__init__ (from tensorflow.python.ops.resource_variable_ops) with constraint is deprecated and will be removed in a future version.\n",
      "Instructions for updating:\n",
      "If using Keras pass *_constraint arguments to layers.\n",
      "WARNING:tensorflow:From /home/huy/python-env/tensorflow_v1/lib/python3.6/site-packages/keras/backend/tensorflow_backend.py:422: The name tf.global_variables is deprecated. Please use tf.compat.v1.global_variables instead.\n",
      "\n"
     ]
    }
   ],
   "source": [
    "from keras.models import Model, load_model\n",
    "model = load_model('/home/huy/face_recog/models/nn/mobilenetv2_checkpoint_60-0.96.hdf5')"
   ]
  },
  {
   "cell_type": "code",
   "execution_count": 4,
   "metadata": {},
   "outputs": [],
   "source": [
    "# Drop the two last layers\n",
    "#model = Model(model.inputs, model.layers[-3].output)"
   ]
  },
  {
   "cell_type": "code",
   "execution_count": 5,
   "metadata": {},
   "outputs": [],
   "source": [
    "im = preprocess_image('/home/huy/face_recog/dataset/CBGVDataset_v2/10255/WM/test/2.jpg')"
   ]
  },
  {
   "cell_type": "code",
   "execution_count": 6,
   "metadata": {},
   "outputs": [],
   "source": [
    "feature = model.predict(np.expand_dims(im, axis=0))"
   ]
  },
  {
   "cell_type": "code",
   "execution_count": 8,
   "metadata": {},
   "outputs": [
    {
     "data": {
      "text/plain": [
       "(1, 256)"
      ]
     },
     "execution_count": 8,
     "metadata": {},
     "output_type": "execute_result"
    }
   ],
   "source": [
    "feature.shape"
   ]
  },
  {
   "cell_type": "code",
   "execution_count": 14,
   "metadata": {},
   "outputs": [],
   "source": [
    "x = ()"
   ]
  },
  {
   "cell_type": "code",
   "execution_count": 15,
   "metadata": {},
   "outputs": [
    {
     "data": {
      "text/plain": [
       "tuple"
      ]
     },
     "execution_count": 15,
     "metadata": {},
     "output_type": "execute_result"
    }
   ],
   "source": [
    "type(x)"
   ]
  },
  {
   "cell_type": "code",
   "execution_count": null,
   "metadata": {},
   "outputs": [],
   "source": []
  }
 ],
 "metadata": {
  "kernelspec": {
   "display_name": "tensorflow_v1",
   "language": "python",
   "name": "tensorflow_v1"
  },
  "language_info": {
   "codemirror_mode": {
    "name": "ipython",
    "version": 3
   },
   "file_extension": ".py",
   "mimetype": "text/x-python",
   "name": "python",
   "nbconvert_exporter": "python",
   "pygments_lexer": "ipython3",
   "version": "3.6.8"
  }
 },
 "nbformat": 4,
 "nbformat_minor": 4
}
