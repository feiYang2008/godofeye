{
 "cells": [
  {
   "cell_type": "code",
   "execution_count": 1,
   "metadata": {},
   "outputs": [
    {
     "name": "stdout",
     "output_type": "stream",
     "text": [
      "Set config.gpu_options.allow_growth to True\n"
     ]
    }
   ],
   "source": [
    "import os\n",
    "import sys\n",
    "import cv2\n",
    "import glob\n",
    "import joblib\n",
    "from pathlib import Path\n",
    "import numpy as np\n",
    "from time import time\n",
    "from queue import Queue\n",
    "from collections import namedtuple\n",
    "\n",
    "sys.path.append('/home/huy/capstone/godofeye/lib')\n",
    "sys.path.append('/home/huy/capstone/godofeye/lib/yoloface')\n",
    "\n",
    "from blueeyes.face_recognition import FaceDetector, FaceRecognition, FeatureExtractor, ModelTraining\n",
    "from blueeyes.utils import Camera"
   ]
  },
  {
   "cell_type": "markdown",
   "metadata": {},
   "source": [
    "### Face Crop from Images (Optional)"
   ]
  },
  {
   "cell_type": "code",
   "execution_count": 2,
   "metadata": {},
   "outputs": [
    {
     "name": "stderr",
     "output_type": "stream",
     "text": [
      "Using TensorFlow backend.\n"
     ]
    }
   ],
   "source": [
    "from pathlib import Path\n",
    "\n",
    "IMAGES_DIR = '/home/huy/data/face_recog/train_test_raw/'\n",
    "OUTPUT_DIR = '/home/huy/data/face_recog/train_test'\n",
    "\n",
    "detector = FaceDetector('mtcnn', min_face_size=50)\n",
    "\n",
    "count = 0\n",
    "\n",
    "for img_path in glob.glob(IMAGES_DIR + '/**/*.jpg', recursive=True):\n",
    "    path = Path(img_path)\n",
    "    id = path.parent.name\n",
    "    im = cv2.imread(str(path), 1)\n",
    "    boxes = detector.detect(im)\n",
    "    for left,top,right,bottom in boxes:\n",
    "        crop = im[top:bottom,left:right,:]\n",
    "        output_dir = OUTPUT_DIR + f'/{id}'\n",
    "        output_path = output_dir + f'/{count}.jpg'\n",
    "        if not os.path.exists(output_dir):\n",
    "            os.makedirs(output_dir)\n",
    "        cv2.imwrite(output_path, crop)\n",
    "        print('Write to ', output_path)\n",
    "        count += 1"
   ]
  },
  {
   "cell_type": "markdown",
   "metadata": {},
   "source": [
    "### Create Train Test Set"
   ]
  },
  {
   "cell_type": "code",
   "execution_count": null,
   "metadata": {},
   "outputs": [],
   "source": [
    "from pathlib import Path\n",
    "\n",
    "train_set_dict = {}\n",
    "test_set_dict = {}\n",
    "\n",
    "TRAINSET_LOCATION = '/home/huy/Downloads/CBGVDataset_v3.2/Aug3/*/WM/*.jpg'\n",
    "TESTSET_LOCATION = '/home/huy/smartbuilding/face_recog_models/dataset/CBGVDataset_v2/*/WM/test/*.jpg'\n",
    "\n",
    "for path in glob.glob(TRAINSET_LOCATION):\n",
    "    path = Path(path)\n",
    "    id = path.parent.parent.parent.name\n",
    "    if id not in train_set_dict.keys():\n",
    "        train_set_dict[id] = []\n",
    "    train_set_dict[id].append(str(path)) \n",
    "for path in glob.glob(TESTSET_LOCATION):\n",
    "    path = Path(path)\n",
    "    id = path.parent.parent.parent.name\n",
    "    if id not in test_set_dict.keys():\n",
    "        test_set_dict[id] = []\n",
    "    test_set_dict[id].append(str(path))\n",
    "\n",
    "# for entry in os.scandir('/home/huy/face_recog/dataset/Data v4.1/train_set_mix'):\n",
    "#     id = entry.name\n",
    "#     train_paths = []\n",
    "#     test_paths = []\n",
    "#     all_paths = glob.glob(os.path.join(entry.path, '*'))\n",
    "#     np.random.shuffle(all_paths)\n",
    "#     for path in all_paths[2:len(all_paths)]:\n",
    "#         train_paths.append(os.path.abspath(path))\n",
    "#     for path in all_paths[0:2]:\n",
    "#         test_paths.append(os.path.abspath(path))\n",
    "# #     for path in all_paths:\n",
    "# #         train_paths.append(os.path.abspath(path))\n",
    "#     train_set_dict[id] = train_paths\n",
    "#     test_set_dict[id] = test_paths"
   ]
  },
  {
   "cell_type": "code",
   "execution_count": 2,
   "metadata": {},
   "outputs": [],
   "source": [
    "# auto split train test\n",
    "from pathlib import Path\n",
    "\n",
    "RATIO = 1.0\n",
    "\n",
    "all_set_dict = {}\n",
    "train_set_dict = {}\n",
    "test_set_dict = {}\n",
    "\n",
    "TRAINSET_LOCATION = '/home/huy/Downloads/Aug5(train+WM)/Aug5/*/train/*.jpg'\n",
    "\n",
    "for path in glob.glob(TRAINSET_LOCATION, recursive=True):\n",
    "    path = Path(path)\n",
    "    id = path.parent.parent.name\n",
    "    if id not in all_set_dict.keys():\n",
    "        all_set_dict[id] = []\n",
    "    all_set_dict[id].append(str(path)) \n",
    "\n",
    "for label, paths in all_set_dict.items():\n",
    "    n = int(len(paths)*RATIO)\n",
    "    train_set_dict[label] = paths[0:n]\n",
    "    test_set_dict[label] = paths[n:]"
   ]
  },
  {
   "cell_type": "code",
   "execution_count": 4,
   "metadata": {},
   "outputs": [
    {
     "data": {
      "text/plain": [
       "dict_keys(['11102', '10222', '11109', '11100', '11468', '11248', '10354', '11074', '1641764600', '10542', '10225', '10635', '11410', '10766', '11321', '10887', '11281', '10888', '10473', '10600', '11409', '10576', '11272', '10872', '9944005072', '11280', '10349', '11458', '11214', '10402', '10272', '10125', '10276', '11499', '11500', '11160', '11243', '10398', '11185', '11201', '10307', '11226', '10861', '11317', '11193', '10533', '10437', '10329', '10358', '10087', '11118', '11249', '10250', '11072', '10283', '11088', '11318', '193019', '11273', '10423', '11251', '11070', '10359', '11216', '11184', '1149822', '9563444161', '11267', '10234', '11456', '11489', '10171', '10824', '10220', '11245', '10966', '11455', '10609', '10229', '8493773300'])"
      ]
     },
     "execution_count": 4,
     "metadata": {},
     "output_type": "execute_result"
    }
   ],
   "source": [
    "train_set_dict.keys()"
   ]
  },
  {
   "cell_type": "markdown",
   "metadata": {},
   "source": [
    "### Create train and test data"
   ]
  },
  {
   "cell_type": "code",
   "execution_count": 7,
   "metadata": {},
   "outputs": [],
   "source": [
    "feature_extractor = FeatureExtractor('dlib')\n",
    "model_trainer = ModelTraining(feature_extractor=feature_extractor)"
   ]
  },
  {
   "cell_type": "code",
   "execution_count": null,
   "metadata": {},
   "outputs": [],
   "source": [
    "model_trainer.create_train_set(train_set_dict, output_model_location='/home/huy/face_recog/encoded_data/aug5_train', process=4)"
   ]
  },
  {
   "cell_type": "code",
   "execution_count": null,
   "metadata": {},
   "outputs": [],
   "source": [
    "model_trainer.create_train_set(test_set_dict, output_model_location='/home/huy/face_recog/encoded_data/test')"
   ]
  },
  {
   "cell_type": "code",
   "execution_count": 28,
   "metadata": {},
   "outputs": [],
   "source": [
    "# LOCATION = '/home/huy/Downloads/Aug5(train+WM)/Aug5/*/WM/*.jpg'\n",
    "LOCATION = '/home/huy/Downloads/CBGVDataset_v3.3(train+test)/*/WM/*.jpg'\n",
    "data_dict = {}\n",
    "for path in glob.glob(LOCATION):\n",
    "    path = Path(path)\n",
    "    id = path.parent.parent.name\n",
    "    if id not in data_dict.keys():\n",
    "        data_dict[id] = []\n",
    "    data_dict[id].append(str(path))"
   ]
  },
  {
   "cell_type": "code",
   "execution_count": 29,
   "metadata": {},
   "outputs": [
    {
     "data": {
      "text/plain": [
       "dict_keys(['11102', '10222', '11109', '11100', '11468', '11248', '10354', '11074', '1641764600', '10542', '10225', '10635', '11410', '10766', '11321', '10887', '11281', '10888', '10473', '10600', '11409', '10576', '11272', '10872', '9944005072', '11280', '10349', '11458', '11214', '10402', '10272', '10125', '10276', '11499', '11500', '11160', '11243', '10398', '11185', '11201', '10307', '11226', '10861', '11317', '11193', '10533', '10437', '10329', '10358', '10087', '11118', '11249', '10250', '11072', '10283', '11088', '11318', '193019', '11273', '10423', '11251', '11070', '10359', '11216', '11184', '1149822', '9563444161', '11267', '10234', '11456', '11489', '10171', '10824', '10220', '11245', '10966', '11455', '10609', '10229', '8493773300'])"
      ]
     },
     "execution_count": 29,
     "metadata": {},
     "output_type": "execute_result"
    }
   ],
   "source": [
    "data_dict.keys()"
   ]
  },
  {
   "cell_type": "code",
   "execution_count": null,
   "metadata": {},
   "outputs": [],
   "source": [
    "model_trainer.create_train_set(data_dict, output_model_location='/home/huy/face_recog/encoded_data/aug5_test_wm', process=6)"
   ]
  },
  {
   "cell_type": "markdown",
   "metadata": {},
   "source": [
    "### Train model"
   ]
  },
  {
   "cell_type": "code",
   "execution_count": 6,
   "metadata": {},
   "outputs": [],
   "source": [
    "data = joblib.load('/home/huy/face_recog/encoded_data/aug5_train/features.joblib')\n",
    "features, labels = list(zip(*data))"
   ]
  },
  {
   "cell_type": "code",
   "execution_count": 5,
   "metadata": {},
   "outputs": [],
   "source": [
    "data = joblib.load('/home/huy/capstone/godofeye/demo/crop_dataset.joblib')\n",
    "features, labels = data"
   ]
  },
  {
   "cell_type": "code",
   "execution_count": 6,
   "metadata": {},
   "outputs": [
    {
     "name": "stdout",
     "output_type": "stream",
     "text": [
      "KNeighborsClassifier(algorithm='auto', leaf_size=30, metric='euclidean',\n",
      "                     metric_params=None, n_jobs=None, n_neighbors=300, p=2,\n",
      "                     weights='uniform')\n"
     ]
    }
   ],
   "source": [
    "model_trainer.train_knn(features, labels, K=300, weights='uniform', output_model_location='/home/huy/face_recog/models/knn')"
   ]
  },
  {
   "cell_type": "code",
   "execution_count": 9,
   "metadata": {},
   "outputs": [],
   "source": [
    "model = model_trainer.train_simple_model(features, labels, output_model_location='/home/huy/face_recog/models/simple_distance_test')"
   ]
  },
  {
   "cell_type": "code",
   "execution_count": 11,
   "metadata": {},
   "outputs": [
    {
     "data": {
      "text/plain": [
       "['centroid.joblib']"
      ]
     },
     "execution_count": 11,
     "metadata": {},
     "output_type": "execute_result"
    }
   ],
   "source": [
    "joblib.dump(model, 'centroid.joblib')"
   ]
  },
  {
   "cell_type": "code",
   "execution_count": 12,
   "metadata": {},
   "outputs": [
    {
     "name": "stdout",
     "output_type": "stream",
     "text": [
      "[LibSVM]Training time:  91.72669744491577\n"
     ]
    },
    {
     "data": {
      "text/plain": [
       "['/home/huy/face_recog/models/svm/linear_c100_13062020_223705.svm']"
      ]
     },
     "execution_count": 12,
     "metadata": {},
     "output_type": "execute_result"
    }
   ],
   "source": [
    "import joblib\n",
    "import numpy as np\n",
    "from sklearn import svm\n",
    "from time import time\n",
    "from sklearn.multiclass import OneVsRestClassifier, OneVsOneClassifier\n",
    "from datetime import datetime\n",
    "C = 100\n",
    "kernel ='linear'\n",
    "train_start = time()\n",
    "clf = svm.SVC(kernel=kernel, C=C, probability=True, verbose=True)\n",
    "# clf = OneVsRestClassifier(svm_clf, n_jobs=-1)\n",
    "clf.fit(features, labels)\n",
    "print('Training time: ', time() - train_start)\n",
    "date = datetime.now().strftime('%d%m%Y_%H%M%S')\n",
    "joblib.dump(clf, f'/home/huy/face_recog/models/svm/{kernel}_c{C}_{date}.svm')"
   ]
  },
  {
   "cell_type": "code",
   "execution_count": 13,
   "metadata": {},
   "outputs": [
    {
     "data": {
      "text/plain": [
       "array([[0.00207351, 0.00207351, 0.00207351, 0.00207351, 0.00207351,\n",
       "        0.00207351, 0.00207351, 0.00207351, 0.00207351, 0.00207351,\n",
       "        0.00207351, 0.00207351, 0.00207351, 0.00207351, 0.00207351,\n",
       "        0.00207351, 0.00207351, 0.00207351, 0.00207351, 0.00207351,\n",
       "        0.00207351, 0.42960931, 0.00207351, 0.00207351, 0.00207351,\n",
       "        0.00207351, 0.00207351, 0.00207351, 0.00207351, 0.00207351,\n",
       "        0.02217673, 0.00207351, 0.00207351, 0.00207351, 0.00207351,\n",
       "        0.00207351, 0.00207351, 0.00207351, 0.00207351, 0.00207351,\n",
       "        0.00207351, 0.00207351, 0.00207351, 0.00207351, 0.00207351,\n",
       "        0.00207351, 0.00207351, 0.00207351, 0.00207351, 0.00302425,\n",
       "        0.00207351, 0.00207351, 0.00207351, 0.00207351, 0.38760321,\n",
       "        0.00207351, 0.00207351, 0.00207351, 0.00207351, 0.00207351,\n",
       "        0.00207351, 0.00207351, 0.00207351, 0.00207351, 0.00207351,\n",
       "        0.00207351, 0.00207351, 0.00207351, 0.00207351, 0.00207351,\n",
       "        0.00207351, 0.00207351, 0.00207351, 0.00207351, 0.00207351,\n",
       "        0.00207351, 0.00207351, 0.00207351, 0.00207351, 0.00207351]])"
      ]
     },
     "execution_count": 13,
     "metadata": {},
     "output_type": "execute_result"
    }
   ],
   "source": [
    "clf.predict_proba([np.ones((128,))])"
   ]
  },
  {
   "cell_type": "markdown",
   "metadata": {},
   "source": [
    "### Evaluate the model"
   ]
  },
  {
   "cell_type": "markdown",
   "metadata": {},
   "source": [
    "#### Eclid Distance"
   ]
  },
  {
   "cell_type": "code",
   "execution_count": 8,
   "metadata": {},
   "outputs": [
    {
     "name": "stderr",
     "output_type": "stream",
     "text": [
      "DEBUG:matplotlib.pyplot:Loaded backend module://ipykernel.pylab.backend_inline version unknown.\n"
     ]
    }
   ],
   "source": [
    "import multiprocessing\n",
    "from functools import partial\n",
    "from tqdm import tqdm\n",
    "from sklearn.metrics import confusion_matrix, accuracy_score, recall_score, precision_score\n",
    "\n",
    "%matplotlib inline\n",
    "import logging\n",
    "import seaborn as sn\n",
    "import pandas as pd\n",
    "import matplotlib.pyplot as plt\n",
    "logging.getLogger('matplotlib.font_manager').disabled = True\n",
    "logging.getLogger('matplotlib.colorbar').disabled = True"
   ]
  },
  {
   "cell_type": "code",
   "execution_count": 13,
   "metadata": {},
   "outputs": [],
   "source": [
    "def run_evaluation(samples, test_set_type, threshold=0.0, method=[True, True, True]):\n",
    "    ### Euclid ###\n",
    "    if method[0]:\n",
    "        plt.clf()\n",
    "        recog = FaceRecognition(\n",
    "            feature_extractor_type='dlib',\n",
    "            classifier_method='euclid',\n",
    "            model_dir='/home/huy/face_recog/models/simple_distance/'\n",
    "        )\n",
    "\n",
    "        classes = [s.replace('\\n', '') for s in recog.classes]\n",
    "        classes.append('unknown')\n",
    "\n",
    "        actual = []\n",
    "        predict = []\n",
    "\n",
    "        def process(samples):\n",
    "            actual = []\n",
    "            predict = []\n",
    "            with tqdm(total=len(samples)) as pbar:\n",
    "                for feature, label in samples:\n",
    "                    predict_id = recog.recog([feature], threshold=1-threshold)\n",
    "                    predict_id = predict_id[0][0].split('\\n')[0]\n",
    "                    actual.append(label)\n",
    "                    predict.append(predict_id)\n",
    "                    pbar.update(1)\n",
    "            return (actual, predict)\n",
    "\n",
    "        # samples_batch = split_into(samples, 6)\n",
    "\n",
    "        # with multiprocessing.Pool(6) as pool:\n",
    "        #     return_value = pool.map(process, samples_batch)\n",
    "        #     r1, r2 = list(zip(*return_value))\n",
    "        #     actual.extend(r1)\n",
    "        #     predict.extend(r2)\n",
    "        actual, predict = process(samples)\n",
    "\n",
    "        cfm = confusion_matrix(actual, predict)\n",
    "        norm_cfm = confusion_matrix(actual, predict, labels=classes, normalize='true')\n",
    "        acc = accuracy_score(actual, predict)\n",
    "        recall = recall_score(actual, predict, average='weighted')\n",
    "        pre = precision_score(actual, predict, average='weighted')\n",
    "\n",
    "        for i in range(len(norm_cfm)):\n",
    "            for k in range(len(norm_cfm)):\n",
    "                norm_cfm[i][k] = round(norm_cfm[i][k], 2)\n",
    "\n",
    "        print('result:', acc, recall, pre)\n",
    "\n",
    "        df_cm = pd.DataFrame(norm_cfm, classes, classes)\n",
    "        # plt.figure(figsize=(10,7))\n",
    "        sn.set(font_scale=0.1) # for label size\n",
    "        sn.heatmap(df_cm, annot=True, annot_kws={\"size\": 1}) # font size\n",
    "\n",
    "        # plt.show()\n",
    "        plt.savefig(f'{test_set_type}/cfm_euclid.eps', format='eps', dpi=1200)\n",
    "\n",
    "        ### Ignore unknown\n",
    "        plt.clf()\n",
    "        classes = [s.replace('\\n', '') for s in recog.classes]\n",
    "\n",
    "        actual_without_unknown = []\n",
    "        predict_without_unknown = []\n",
    "\n",
    "        unknown_count = 0\n",
    "        for i in range(len(actual)):\n",
    "            if predict[i] != 'unknown':\n",
    "                actual_without_unknown.append(actual[i])\n",
    "                predict_without_unknown.append(predict[i])\n",
    "            else:\n",
    "                unknown_count += 1\n",
    "\n",
    "        cfm = confusion_matrix(actual_without_unknown, predict_without_unknown)\n",
    "        norm_cfm = confusion_matrix(actual, predict, labels=classes, normalize='true')\n",
    "        acc = accuracy_score(actual_without_unknown, predict_without_unknown)\n",
    "        recall = recall_score(actual_without_unknown, predict_without_unknown, average='weighted')\n",
    "        pre = precision_score(actual_without_unknown, predict_without_unknown, average='weighted')\n",
    "        unknown_rate = unknown_count / len(predict)\n",
    "\n",
    "        for i in range(len(norm_cfm)):\n",
    "            for k in range(len(norm_cfm)):\n",
    "                norm_cfm[i][k] = round(norm_cfm[i][k], 2)\n",
    "\n",
    "        print('result_without_unknown:', acc, recall, pre)\n",
    "        print('unknown_rate:', unknown_rate)\n",
    "\n",
    "        df_cm = pd.DataFrame(norm_cfm, classes, classes)\n",
    "        sn.set(font_scale=0.1) # for label size\n",
    "        sn.heatmap(df_cm, annot=True, annot_kws={\"size\": 1}) # font size\n",
    "\n",
    "        # plt.show()\n",
    "        plt.savefig(f'{test_set_type}/cfm_euclid_without_unknown.eps', format='eps', dpi=1200)\n",
    "\n",
    "    ### End Euclid ###\n",
    "\n",
    "    ### SVM ###\n",
    "    if method[1]:\n",
    "        plt.clf()\n",
    "        recog = FaceRecognition(\n",
    "            feature_extractor_type='dlib',\n",
    "            classifier_method='svm',\n",
    "            model_path='/home/huy/face_recog/models/svm/linear_c100_13062020_223705.svm'\n",
    "        )\n",
    "\n",
    "        classes = [s.replace('\\n', '') for s in recog.svm_clf.classes_]\n",
    "        classes.append('unknown')\n",
    "\n",
    "        actual = []\n",
    "        predict = []\n",
    "\n",
    "        def process(samples):\n",
    "            actual = []\n",
    "            predict = []\n",
    "            with tqdm(total=len(samples)) as pbar:\n",
    "                for feature, label in samples:\n",
    "                    predict_id = recog.recog([feature], threshold=threshold)\n",
    "                    predict_id = predict_id[0].split('\\n')[0]\n",
    "                    actual.append(label)\n",
    "                    predict.append(predict_id)\n",
    "                    pbar.update(1)\n",
    "            return (actual, predict)\n",
    "\n",
    "        # samples_batch = split_into(samples, 6)\n",
    "\n",
    "        # with multiprocessing.Pool(6) as pool:\n",
    "        #     return_value = pool.map(process, samples_batch)\n",
    "        #     r1, r2 = list(zip(*return_value))\n",
    "        #     actual.extend(r1)\n",
    "        #     predict.extend(r2)\n",
    "        actual, predict = process(samples)\n",
    "\n",
    "        cfm = confusion_matrix(actual, predict)\n",
    "        norm_cfm = confusion_matrix(actual, predict, labels=classes, normalize='true')\n",
    "        acc = accuracy_score(actual, predict)\n",
    "        recall = recall_score(actual, predict, average='weighted')\n",
    "        pre = precision_score(actual, predict, average='weighted')\n",
    "\n",
    "        for i in range(len(norm_cfm)):\n",
    "            for k in range(len(norm_cfm)):\n",
    "                norm_cfm[i][k] = round(norm_cfm[i][k], 2)\n",
    "\n",
    "        print('result:', acc, recall, pre)\n",
    "\n",
    "        df_cm = pd.DataFrame(norm_cfm, classes, classes)\n",
    "        sn.set(font_scale=0.1) # for label size\n",
    "        sn.heatmap(df_cm, annot=True, annot_kws={\"size\": 1}) # font size\n",
    "\n",
    "        # plt.show()\n",
    "        plt.savefig(f'{test_set_type}/cfm_svm.eps', format='eps', dpi=1200)\n",
    "\n",
    "\n",
    "        ### Ignore unknown\n",
    "        plt.clf()\n",
    "        classes = [s.replace('\\n', '') for s in recog.svm_clf.classes_]\n",
    "\n",
    "        actual_without_unknown = []\n",
    "        predict_without_unknown = []\n",
    "\n",
    "        unknown_count = 0\n",
    "        for i in range(len(actual)):\n",
    "            if predict[i] != 'unknown':\n",
    "                actual_without_unknown.append(actual[i])\n",
    "                predict_without_unknown.append(predict[i])\n",
    "            else:\n",
    "                unknown_count += 1\n",
    "\n",
    "        cfm = confusion_matrix(actual_without_unknown, predict_without_unknown)\n",
    "        norm_cfm = confusion_matrix(actual, predict, labels=classes, normalize='true')\n",
    "        acc = accuracy_score(actual_without_unknown, predict_without_unknown)\n",
    "        recall = recall_score(actual_without_unknown, predict_without_unknown, average='weighted')\n",
    "        pre = precision_score(actual_without_unknown, predict_without_unknown, average='weighted')\n",
    "        unknown_rate = unknown_count / len(predict)\n",
    "\n",
    "        for i in range(len(norm_cfm)):\n",
    "            for k in range(len(norm_cfm)):\n",
    "                norm_cfm[i][k] = round(norm_cfm[i][k], 2)\n",
    "\n",
    "        print('result_without_unknown:', acc, recall, pre)\n",
    "        print('unknown_rate:', unknown_rate)\n",
    "\n",
    "        df_cm = pd.DataFrame(norm_cfm, classes, classes)\n",
    "        sn.set(font_scale=0.1) # for label size\n",
    "        sn.heatmap(df_cm, annot=True, annot_kws={\"size\": 1}) # font size\n",
    "\n",
    "        # plt.show()\n",
    "        plt.savefig(f'{test_set_type}/cfm_svm_without_unknown.eps', format='eps', dpi=1200)\n",
    "\n",
    "\n",
    "    #### KNN #####\n",
    "    if method[2]:\n",
    "        plt.clf()\n",
    "        recog = FaceRecognition(\n",
    "            feature_extractor_type='dlib',\n",
    "            classifier_method='knn',\n",
    "            model_dir='/home/huy/face_recog/models/knn'\n",
    "        )\n",
    "\n",
    "        classes = recog.knn.classes_\n",
    "        classes = [s.replace('\\n', '') for s in classes]\n",
    "        actual = []\n",
    "        predict = []\n",
    "\n",
    "        def process(samples):\n",
    "            actual = []\n",
    "            predict = []\n",
    "            with tqdm(total=len(samples)) as pbar:\n",
    "                for feature, label in samples:\n",
    "                    predict_id = recog.recog([feature], threshold=threshold)\n",
    "                    predict_id = predict_id[0].split('\\n')[0]\n",
    "                    actual.append(label)\n",
    "                    predict.append(predict_id)\n",
    "                    pbar.update(1)\n",
    "            return (actual, predict)\n",
    "\n",
    "        # samples_batch = split_into(samples, 6)\n",
    "\n",
    "        # with multiprocessing.Pool(6) as pool:\n",
    "        #     return_value = pool.map(process, samples_batch)\n",
    "        #     r1, r2 = list(zip(*return_value))\n",
    "        #     actual.extend(r1)\n",
    "        #     predict.extend(r2)\n",
    "        actual, predict = process(samples)\n",
    "\n",
    "        cfm = confusion_matrix(actual, predict)\n",
    "        norm_cfm = confusion_matrix(actual, predict, labels=classes, normalize='true')\n",
    "        acc = accuracy_score(actual, predict)\n",
    "        recall = recall_score(actual, predict, average='weighted')\n",
    "        pre = precision_score(actual, predict, average='weighted')\n",
    "\n",
    "        for i in range(len(norm_cfm)):\n",
    "            for k in range(len(norm_cfm)):\n",
    "                norm_cfm[i][k] = round(norm_cfm[i][k], 2)\n",
    "\n",
    "        print('result:', acc, recall, pre)\n",
    "\n",
    "        df_cm = pd.DataFrame(norm_cfm, classes, classes)\n",
    "        # plt.figure(figsize=(10,7))\n",
    "        sn.set(font_scale=0.1) # for label size\n",
    "        sn.heatmap(df_cm, annot=True, annot_kws={\"size\": 1}) # font size\n",
    "\n",
    "        # plt.show()\n",
    "        plt.savefig(f'{test_set_type}/cfm_knn.eps', format='eps', dpi=1200)\n",
    "\n",
    "        ### Ignore unknown\n",
    "        plt.clf()\n",
    "        classes = [s.replace('\\n', '') for s in recog.knn.classes_]\n",
    "\n",
    "        actual_without_unknown = []\n",
    "        predict_without_unknown = []\n",
    "\n",
    "        unknown_count = 0\n",
    "        for i in range(len(actual)):\n",
    "            if predict[i] != 'unknown':\n",
    "                actual_without_unknown.append(actual[i])\n",
    "                predict_without_unknown.append(predict[i])\n",
    "            else:\n",
    "                unknown_count += 1\n",
    "\n",
    "        cfm = confusion_matrix(actual_without_unknown, predict_without_unknown)\n",
    "        norm_cfm = confusion_matrix(actual, predict, labels=classes, normalize='true')\n",
    "        acc = accuracy_score(actual_without_unknown, predict_without_unknown)\n",
    "        recall = recall_score(actual_without_unknown, predict_without_unknown, average='weighted')\n",
    "        pre = precision_score(actual_without_unknown, predict_without_unknown, average='weighted')\n",
    "        unknown_rate = unknown_count / len(predict)\n",
    "\n",
    "        for i in range(len(norm_cfm)):\n",
    "            for k in range(len(norm_cfm)):\n",
    "                norm_cfm[i][k] = round(norm_cfm[i][k], 2)\n",
    "\n",
    "        print('result_without_unknown:', acc, recall, pre)\n",
    "        print('unknown_rate:', unknown_rate)\n",
    "\n",
    "        df_cm = pd.DataFrame(norm_cfm, classes, classes)\n",
    "        sn.set(font_scale=0.1) # for label size\n",
    "        sn.heatmap(df_cm, annot=True, annot_kws={\"size\": 1}) # font size\n",
    "\n",
    "        # plt.show()\n",
    "        plt.savefig(f'{test_set_type}/cfm_knn_without_unknown.eps', format='eps', dpi=1200)\n",
    "\n",
    "    ### End KNN ###"
   ]
  },
  {
   "cell_type": "code",
   "execution_count": 14,
   "metadata": {},
   "outputs": [
    {
     "name": "stderr",
     "output_type": "stream",
     "text": [
      "100%|██████████| 24000/24000 [00:58<00:00, 410.49it/s]\n"
     ]
    },
    {
     "name": "stdout",
     "output_type": "stream",
     "text": [
      "result: 0.9910416666666667 0.9910416666666667 0.9917333225597843\n",
      "result_without_unknown: 0.9910416666666667 0.9910416666666667 0.9917333225597843\n",
      "unknown_rate: 0.0\n"
     ]
    },
    {
     "name": "stderr",
     "output_type": "stream",
     "text": [
      "100%|██████████| 24000/24000 [00:58<00:00, 408.38it/s]\n"
     ]
    },
    {
     "name": "stdout",
     "output_type": "stream",
     "text": [
      "result: 0.845625 0.845625 0.863246730555246\n",
      "result_without_unknown: 0.845625 0.845625 0.863246730555246\n",
      "unknown_rate: 0.0\n"
     ]
    },
    {
     "data": {
      "image/png": "[encoded data removed]",
      "text/plain": [
       "<Figure size 432x288 with 2 Axes>"
      ]
     },
     "metadata": {},
     "output_type": "display_data"
    }
   ],
   "source": [
    "test_type = ['wm', 'hm']\n",
    "samples_list = []\n",
    "for t in test_type:\n",
    "    samples = joblib.load(f'/home/huy/face_recog/encoded_data/aug5_test_{t}/features.joblib')\n",
    "    run_evaluation(samples, t, threshold=0.0, method=[False, True, False])"
   ]
  },
  {
   "cell_type": "code",
   "execution_count": null,
   "metadata": {},
   "outputs": [],
   "source": []
  },
  {
   "cell_type": "code",
   "execution_count": 15,
   "metadata": {},
   "outputs": [],
   "source": [
    "def split_into(lst, n_part):\n",
    "    parts = []\n",
    "    part_size = len(lst)//n_part\n",
    "    i = 0\n",
    "    while i < n_part:\n",
    "        parts.append(lst[i*part_size:(i*part_size+part_size)])\n",
    "        i += 1\n",
    "    for i in range(len(lst) % n_part):\n",
    "        key, value = lst[n_part*part_size+i]\n",
    "        parts[i][key] = value\n",
    "    return parts"
   ]
  },
  {
   "cell_type": "code",
   "execution_count": null,
   "metadata": {},
   "outputs": [],
   "source": []
  },
  {
   "cell_type": "code",
   "execution_count": null,
   "metadata": {},
   "outputs": [],
   "source": []
  },
  {
   "cell_type": "code",
   "execution_count": null,
   "metadata": {},
   "outputs": [],
   "source": []
  },
  {
   "cell_type": "code",
   "execution_count": null,
   "metadata": {},
   "outputs": [],
   "source": []
  },
  {
   "cell_type": "code",
   "execution_count": null,
   "metadata": {},
   "outputs": [],
   "source": []
  },
  {
   "cell_type": "code",
   "execution_count": null,
   "metadata": {},
   "outputs": [],
   "source": []
  },
  {
   "cell_type": "code",
   "execution_count": null,
   "metadata": {},
   "outputs": [],
   "source": []
  },
  {
   "cell_type": "code",
   "execution_count": null,
   "metadata": {},
   "outputs": [],
   "source": []
  },
  {
   "cell_type": "code",
   "execution_count": null,
   "metadata": {},
   "outputs": [],
   "source": []
  },
  {
   "cell_type": "code",
   "execution_count": null,
   "metadata": {},
   "outputs": [],
   "source": []
  },
  {
   "cell_type": "code",
   "execution_count": null,
   "metadata": {},
   "outputs": [],
   "source": []
  },
  {
   "cell_type": "code",
   "execution_count": null,
   "metadata": {},
   "outputs": [],
   "source": []
  },
  {
   "cell_type": "code",
   "execution_count": null,
   "metadata": {},
   "outputs": [],
   "source": [
    "recog = FaceRecognition(\n",
    "    classifier_method='euclid',\n",
    "    model_dir='/home/huy/face_recog/models/simple_distance/'\n",
    ")\n",
    "TP_count = 0\n",
    "UNK_count = 0\n",
    "num_samples = 0\n",
    "for id, img_paths in test_set_dict.items():\n",
    "    for path in img_paths:\n",
    "        img = cv2.imread(path, 1)\n",
    "        predict_id = recog.recog(img,[[0,0,img.shape[1],img.shape[0]]], threshold=0.9)\n",
    "        predict_id = predict_id[0][0].split('\\n')[0]\n",
    "        if predict_id == id:\n",
    "            TP_count += 1\n",
    "        elif predict_id == 'unknown':\n",
    "            UNK_count +=1\n",
    "        num_samples += 1\n",
    "# TP rate don't care UNK\n",
    "print('num_samples\\t', 'TP_count\\t', 'UNK_count\\t')\n",
    "print(num_samples, TP_count, UNK_count)\n",
    "print('TP Rate ',TP_count/(num_samples-UNK_count))\n",
    "# False rate\n",
    "# print(1 - (TP_count+UNK_count)/num_samples\n",
    "print('UNK rate ', UNK_count/num_samples)"
   ]
  },
  {
   "cell_type": "code",
   "execution_count": null,
   "metadata": {},
   "outputs": [],
   "source": [
    "recog = FaceRecognition(\n",
    "    model_dir='/home/huy/face_recog/models/knn/', \n",
    "   classifier_method='knn'\n",
    ")\n",
    "TP_count = 0\n",
    "UNK_count = 0\n",
    "num_samples = 0\n",
    "for id, img_paths in test_set_dict.items():\n",
    "    for path in img_paths:\n",
    "        img = cv2.imread(path, 1)\n",
    "        predict_id = recog.recog(img,[[0,0,img.shape[1],img.shape[0]]], threshold=0.5)\n",
    "        predict_id = predict_id[0][0].split('\\n')[0]\n",
    "        if predict_id == id:\n",
    "            TP_count += 1\n",
    "        elif predict_id == 'unknown':\n",
    "            UNK_count +=1\n",
    "        num_samples += 1\n",
    "# TP rate don't care UNK\n",
    "print('num_samples\\t', 'TP_count\\t', 'UNK_count\\t')\n",
    "print(num_samples, TP_count, UNK_count)\n",
    "print('TP Rate ',TP_count/(num_samples-UNK_count))\n",
    "# False rate\n",
    "# print(1 - (TP_count+UNK_count)/num_samples\n",
    "print('UNK rate ', UNK_count/num_samples)"
   ]
  },
  {
   "cell_type": "code",
   "execution_count": null,
   "metadata": {},
   "outputs": [],
   "source": [
    "recog = FaceRecognition(\n",
    "    model_dir='/home/huy/models/simple_distance/',\n",
    "    feature_extractor_type='face_recognition'\n",
    ")\n",
    "TP_count = 0\n",
    "UNK_count = 0\n",
    "num_samples = 0\n",
    "for id, img_paths in test_set_dict.items():\n",
    "    for path in img_paths:\n",
    "        img = cv2.imread(path, 1)\n",
    "        predict_id = recog.recog(img,[[0,0,img.shape[1],img.shape[0]]], threshold=0.5)\n",
    "        predict_id = predict_id[0][0].split('\\n')[0]\n",
    "        if predict_id == id:\n",
    "            TP_count += 1\n",
    "        elif predict_id == 'unknown':\n",
    "            UNK_count +=1\n",
    "        num_samples += 1\n",
    "# TP rate don't care UNK\n",
    "print('num_samples\\t', 'TP_count\\t', 'UNK_count\\t')\n",
    "print(num_samples, TP_count, UNK_count)\n",
    "print('TP Rate ',TP_count/(num_samples-UNK_count))\n",
    "# False rate\n",
    "# print(1 - (TP_count+UNK_count)/num_samples\n",
    "print('UNK rate ', UNK_count/num_samples)"
   ]
  },
  {
   "cell_type": "code",
   "execution_count": null,
   "metadata": {},
   "outputs": [],
   "source": []
  }
 ],
 "metadata": {
  "kernelspec": {
   "display_name": "cv",
   "language": "python",
   "name": "cv"
  },
  "language_info": {
   "codemirror_mode": {
    "name": "ipython",
    "version": 3
   },
   "file_extension": ".py",
   "mimetype": "text/x-python",
   "name": "python",
   "nbconvert_exporter": "python",
   "pygments_lexer": "ipython3",
   "version": "3.8.2"
  }
 },
 "nbformat": 4,
 "nbformat_minor": 4
}
