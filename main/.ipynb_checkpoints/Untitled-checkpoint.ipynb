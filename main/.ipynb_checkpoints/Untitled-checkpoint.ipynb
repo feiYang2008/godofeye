{
 "cells": [
  {
   "cell_type": "code",
   "execution_count": 1,
   "metadata": {},
   "outputs": [],
   "source": [
    "import json\n",
    "import time\n",
    "import paho.mqtt.client as mqtt"
   ]
  },
  {
   "cell_type": "code",
   "execution_count": 3,
   "metadata": {},
   "outputs": [
    {
     "data": {
      "text/plain": [
       "<paho.mqtt.client.MQTTMessageInfo at 0x7f5a18586a40>"
      ]
     },
     "execution_count": 3,
     "metadata": {},
     "output_type": "execute_result"
    }
   ],
   "source": [
    "client = mqtt.Client()\n",
    "client.connect('10.10.46.160', 1883, 60)\n",
    "data = {\n",
    "    'id': 'unknown',\n",
    "    'emotion': 'sad',\n",
    "    'time': time.time(),\n",
    "    'evident_path': 'sbuilding/known/10542_2012312_13131.jpg'\n",
    "}\n",
    "client.publish('/ids', json.dumps(data))"
   ]
  },
  {
   "cell_type": "code",
   "execution_count": 71,
   "metadata": {},
   "outputs": [
    {
     "data": {
      "text/plain": [
       "<paho.mqtt.client.MQTTMessageInfo at 0x7f0463b0e720>"
      ]
     },
     "execution_count": 71,
     "metadata": {},
     "output_type": "execute_result"
    }
   ],
   "source": [
    "client = mqtt.Client()\n",
    "client.connect('10.10.46.160', 1883, 60)\n",
    "data = {\n",
    "    'id': '10542',\n",
    "    'time': time.time(),\n",
    "    'evident_path': 'sbuilding/known/10542_2012312_13131.jpg'\n",
    "}\n",
    "client.publish('/ids', json.dumps(data))"
   ]
  },
  {
   "cell_type": "code",
   "execution_count": null,
   "metadata": {},
   "outputs": [],
   "source": []
  },
  {
   "cell_type": "code",
   "execution_count": 1,
   "metadata": {},
   "outputs": [],
   "source": [
    "import os\n",
    "import cv2\n",
    "import multiprocessing\n",
    "import sys\n",
    "import signal\n",
    "sys.argv[1] = '1'"
   ]
  },
  {
   "cell_type": "code",
   "execution_count": 28,
   "metadata": {},
   "outputs": [],
   "source": [
    "class VideoWritterProcess(multiprocessing.Process):\n",
    "    def __init__(self):\n",
    "        super(VideoWritterProcess, self).__init__()\n",
    "        self.cap = cv2.VideoCapture('/home/huy/Downloads/3_nguoi_trucdien_DatHuyNhat.mp4')\n",
    "        self.video_writter = cv2.VideoWriter(f'video{sys.argv[1]}.avi',cv2.VideoWriter_fourcc('M','J','P','G'), 30, (800,600))\n",
    "        self.state = 'run'\n",
    "        signal.signal(signal.SIGUSR1, self._signal_handler)\n",
    "        self.stdout = 'stdout'\n",
    "        self.print('Init done')\n",
    "    def print(self, str):\n",
    "        with open(self.stdout, 'a+') as f:\n",
    "            f.write(str + '\\n')\n",
    "    def _signal_handler(self, signum, frame):\n",
    "        self.print('VideoWritter received signal')\n",
    "        if signum == signal.SIGUSR1:\n",
    "            self.state = 'stop'\n",
    "    def run(self):\n",
    "        while self.state == 'run':\n",
    "            ret, frame = self.cap.read()\n",
    "            if ret:\n",
    "                self.print('Got frame')\n",
    "#                 frame = cv2.resize(frame, (800,600))\n",
    "#                 self.video_writter.write(frame)\n",
    "        self.print('Writer exited')\n",
    "        self.video_writter.release()\n",
    "        self.cap.release()"
   ]
  },
  {
   "cell_type": "code",
   "execution_count": 29,
   "metadata": {},
   "outputs": [],
   "source": [
    "os.kill(vw.pid, signal.SIGKILL)"
   ]
  },
  {
   "cell_type": "code",
   "execution_count": 30,
   "metadata": {},
   "outputs": [],
   "source": [
    "vw = VideoWritterProcess()"
   ]
  },
  {
   "cell_type": "code",
   "execution_count": 31,
   "metadata": {},
   "outputs": [],
   "source": [
    "vw.start()"
   ]
  },
  {
   "cell_type": "code",
   "execution_count": 32,
   "metadata": {},
   "outputs": [
    {
     "data": {
      "text/plain": [
       "12143"
      ]
     },
     "execution_count": 32,
     "metadata": {},
     "output_type": "execute_result"
    }
   ],
   "source": [
    "vw.pid"
   ]
  },
  {
   "cell_type": "code",
   "execution_count": null,
   "metadata": {},
   "outputs": [],
   "source": []
  }
 ],
 "metadata": {
  "kernelspec": {
   "display_name": "cv",
   "language": "python",
   "name": "cv"
  },
  "language_info": {
   "codemirror_mode": {
    "name": "ipython",
    "version": 3
   },
   "file_extension": ".py",
   "mimetype": "text/x-python",
   "name": "python",
   "nbconvert_exporter": "python",
   "pygments_lexer": "ipython3",
   "version": "3.8.2"
  }
 },
 "nbformat": 4,
 "nbformat_minor": 4
}
